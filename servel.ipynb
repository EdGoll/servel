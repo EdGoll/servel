{
 "cells": [
  {
   "cell_type": "markdown",
   "metadata": {},
   "source": [
    "# Data privacy en el SERVEL\n",
    "\n",
    "## Introducción\n",
    "Este proyecto pretende mostrar los problemas en la privacidad de datos.  En particular, el fácil acceso de los datos entregados por Servel, los cuales se enmarcan dentro de la ley 18.556 sobre inscripciones electorales y servicio electoral.\n",
    "\n",
    "## DISCLAIMER\n",
    "El uso que ud. haga de esta información es bajo su exclusiva responsabilidad. La ley impide que se haga cualquier uso comercial de estos datos. Por lo tanto, si desea venderlos, está cometiendo un delito.\n",
    "El código se entrega \"as is\", no hay soporte, y no hay cobro por descargar esto.  La licencia del código es Creative Commons (Reconocimiento – No comercial – Compartir igual. https://creativecommons.cl/tipos-de-licencias/)\n",
    "\n",
    "## Metodología\n",
    "1. revisar el código fuente de  http://web.servel.cl/padronDefinitivo.html\n",
    "2. En dicha página, se encontró un archivo .xml el cual indicaba el nombre del archivo pdf que contenía el padron, comuna por comuna (http://web.servel.cl/archivos.xml)\n",
    "3. mediante grep, cat y wget, se descargaron todos los archivos .pdf (1.5GB aprox)\n",
    "4. En python, se creó un parser que permitiera leer cada página de cada archivo, linea por linea, extrayendo la información de nombre, rut, dirección, comuna, circunscripción y region, para cada persona existente en el archivo pdf.\n",
    "5. Usando las API de google maps, fue posible hacer búsqueda inversa de la dirección, georeferenciando ésta, para cada persona encontrada en la base de datos del serevel\n",
    "6. cada uno de estos registros fue ingresado a una base de datos no relacional (MongoDB), para su posterior manipulación\n",
    "7. Con la base de datos ya poblada, se creo este cuaderno Jupyter, el cual permite manipular de forma más fácil los datos.  En particular, se realiza una búsqueda por rut y se muestra la ubicación geográfica en un mapa de google, empleando el paquete gmaps (https://github.com/pbugnion/gmaps y https://media.readthedocs.org/pdf/jupyter-gmaps/latest/jupyter-gmaps.pdf )\n",
    "\n",
    "## Referencias\n",
    "1. Ávalos, F. D. A. (2014). Las fuentes de acceso público a datos personales. Revista Chilena de Derecho y Tecnología, 3(2). (http://www.semanariorepublicano.uchile.cl/index.php/RCHDT/article/viewArticle/33276)\n",
    "2. ¿Necesita Chile una nueva ley de protección de datos? http://www.elmostrador.cl/mercados/2015/12/28/necesita-chile-una-nueva-ley-de-proteccion-de-datos/\n",
    "3. Encuesta Nacional de Tratamiento de Datos Personales. http://datosprotegidos.cl/wp-content/uploads/2016/09/encuesta-datos-personales.-1.pdf\n",
    "4. \"Servel y datos personales\". Blog de opinion. http://datosprotegidos.cl/servel-y-proteccion-de-datos-personales/\n",
    "5. \"Corte suprema le dió la razón al rutificador\" http://datosprotegidos.cl/corte-suprema-le-dio-la-razon-al-rutificador/\n",
    "6. Protección de Datos Personales. Consejo para la Transparencia. Stgo, 2015. http://www.consejotransparencia.cl/consejo/site/artic/20121213/asocfile/20121213160518/proteccion_datos_final.pdf\n",
    "7. Ley 19628 sobre Protección de Datos de caracter personal. http://www.leychile.cl/Navegar?idNorma=141599\n",
    "8. Ley 18556 sobre inscripciones electorales y servicio electoral. http://servel.cl/inscripciones-electorales-y-servicio-electoral/\n",
    "9. Bahamonde, J., Hevia, A., Font, G., Bustos-Jiménez, J., & Montero, C. (2014). Mining Private Information from Public Data: The Transantiago Case. IEEE Pervasive Computing, 13(2), 37-43."
   ]
  },
  {
   "cell_type": "code",
   "execution_count": 2,
   "metadata": {
    "collapsed": false
   },
   "outputs": [
    {
     "ename": "ImportError",
     "evalue": "No module named gmaps",
     "output_type": "error",
     "traceback": [
      "\u001b[0;31m---------------------------------------------------------------------------\u001b[0m",
      "\u001b[0;31mImportError\u001b[0m                               Traceback (most recent call last)",
      "\u001b[0;32m<ipython-input-2-756b15945096>\u001b[0m in \u001b[0;36m<module>\u001b[0;34m()\u001b[0m\n\u001b[1;32m      4\u001b[0m \u001b[0;32mimport\u001b[0m \u001b[0mnumpy\u001b[0m \u001b[0;32mas\u001b[0m \u001b[0mnp\u001b[0m\u001b[0;34m\u001b[0m\u001b[0m\n\u001b[1;32m      5\u001b[0m \u001b[0;32mfrom\u001b[0m \u001b[0mpymongo\u001b[0m \u001b[0;32mimport\u001b[0m \u001b[0mMongoClient\u001b[0m\u001b[0;34m\u001b[0m\u001b[0m\n\u001b[0;32m----> 6\u001b[0;31m \u001b[0;32mimport\u001b[0m \u001b[0mgmaps\u001b[0m\u001b[0;34m\u001b[0m\u001b[0m\n\u001b[0m\u001b[1;32m      7\u001b[0m \u001b[0;32mimport\u001b[0m \u001b[0mos\u001b[0m\u001b[0;34m\u001b[0m\u001b[0m\n\u001b[1;32m      8\u001b[0m \u001b[0;32mimport\u001b[0m \u001b[0mast\u001b[0m\u001b[0;34m\u001b[0m\u001b[0m\n",
      "\u001b[0;31mImportError\u001b[0m: No module named gmaps"
     ]
    }
   ],
   "source": [
    "import pymongo\n",
    "import json\n",
    "import glob\n",
    "import numpy as np\n",
    "from pymongo import MongoClient\n",
    "import gmaps\n",
    "import os\n",
    "import ast"
   ]
  },
  {
   "cell_type": "code",
   "execution_count": 3,
   "metadata": {
    "collapsed": false
   },
   "outputs": [
    {
     "name": "stdout",
     "output_type": "stream",
     "text": [
      "Connected successfully!!!\n"
     ]
    }
   ],
   "source": [
    "#Client connection with MongoDB\n",
    "try:\n",
    "    client=pymongo.MongoClient()\n",
    "    print \"Connected successfully!!!\"\n",
    "except pymongo.errors.ConnectionFailure, e:\n",
    "   print \"Could not connect to MongoDB: %s\" % e \n",
    "\n",
    "#pointers\n",
    "#pointers\n",
    "db = client.ServelChile  # Nombre de la base de datos\n",
    "Servel = db.PadronChile  # Collection"
   ]
  },
  {
   "cell_type": "code",
   "execution_count": 4,
   "metadata": {
    "collapsed": false
   },
   "outputs": [
    {
     "ename": "NameError",
     "evalue": "name 'gmaps' is not defined",
     "output_type": "error",
     "traceback": [
      "\u001b[0;31m---------------------------------------------------------------------------\u001b[0m",
      "\u001b[0;31mNameError\u001b[0m                                 Traceback (most recent call last)",
      "\u001b[0;32m<ipython-input-4-f685bef89d8f>\u001b[0m in \u001b[0;36m<module>\u001b[0;34m()\u001b[0m\n\u001b[1;32m      1\u001b[0m \u001b[0mf\u001b[0m \u001b[0;34m=\u001b[0m \u001b[0mopen\u001b[0m\u001b[0;34m(\u001b[0m\u001b[0;34m'../../googleAPI'\u001b[0m\u001b[0;34m,\u001b[0m \u001b[0;34m'r'\u001b[0m\u001b[0;34m)\u001b[0m\u001b[0;34m\u001b[0m\u001b[0m\n\u001b[1;32m      2\u001b[0m \u001b[0mapi\u001b[0m \u001b[0;34m=\u001b[0m \u001b[0mf\u001b[0m\u001b[0;34m.\u001b[0m\u001b[0mread\u001b[0m\u001b[0;34m(\u001b[0m\u001b[0;34m)\u001b[0m\u001b[0;34m\u001b[0m\u001b[0m\n\u001b[0;32m----> 3\u001b[0;31m \u001b[0mgmaps\u001b[0m\u001b[0;34m.\u001b[0m\u001b[0mconfigure\u001b[0m\u001b[0;34m(\u001b[0m\u001b[0mapi_key\u001b[0m \u001b[0;34m=\u001b[0m \u001b[0mapi\u001b[0m\u001b[0;34m)\u001b[0m \u001b[0;31m# Your Google API key\u001b[0m\u001b[0;34m\u001b[0m\u001b[0m\n\u001b[0m",
      "\u001b[0;31mNameError\u001b[0m: name 'gmaps' is not defined"
     ]
    }
   ],
   "source": [
    "f = open('../../googleAPI', 'r')\n",
    "api = f.read()\n",
    "gmaps.configure(api_key = api) # Your Google API key"
   ]
  },
  {
   "cell_type": "code",
   "execution_count": 55,
   "metadata": {
    "collapsed": false
   },
   "outputs": [],
   "source": [
    "persona = Servel.find_one({\"Rut\":\"10166682-4\"})\n",
    "Lat = round(float(persona[\"Lat\"]),5)\n",
    "Lon = round(float(persona[\"Lng\"]),5)\n",
    "Direccion = persona[\"direccion\"]\n",
    "marker_location = [(Lat,Lon)]\n",
    "\n",
    "\n",
    "marker = gmaps.marker_layer(marker_location)\n",
    "m = gmaps.Map()\n",
    "m.add_layer(marker)\n",
    "m"
   ]
  },
  {
   "cell_type": "code",
   "execution_count": 5,
   "metadata": {
    "collapsed": false
   },
   "outputs": [
    {
     "ename": "NameError",
     "evalue": "name 'persona' is not defined",
     "output_type": "error",
     "traceback": [
      "\u001b[0;31m---------------------------------------------------------------------------\u001b[0m",
      "\u001b[0;31mNameError\u001b[0m                                 Traceback (most recent call last)",
      "\u001b[0;32m<ipython-input-5-f9eb7fe55419>\u001b[0m in \u001b[0;36m<module>\u001b[0;34m()\u001b[0m\n\u001b[0;32m----> 1\u001b[0;31m \u001b[0;32mprint\u001b[0m \u001b[0mpersona\u001b[0m\u001b[0;34m[\u001b[0m\u001b[0;34m\"Nombre\"\u001b[0m\u001b[0;34m]\u001b[0m\u001b[0;34m,\u001b[0m \u001b[0mpersona\u001b[0m\u001b[0;34m[\u001b[0m\u001b[0;34m\"direccion\"\u001b[0m\u001b[0;34m]\u001b[0m\u001b[0;34m,\u001b[0m \u001b[0mpersona\u001b[0m\u001b[0;34m[\u001b[0m\u001b[0;34m\"Rut\"\u001b[0m\u001b[0;34m]\u001b[0m\u001b[0;34m,\u001b[0m \u001b[0mpersona\u001b[0m\u001b[0;34m[\u001b[0m\u001b[0;34m\"Comuna\"\u001b[0m\u001b[0;34m]\u001b[0m\u001b[0;34m\u001b[0m\u001b[0m\n\u001b[0m",
      "\u001b[0;31mNameError\u001b[0m: name 'persona' is not defined"
     ]
    }
   ],
   "source": [
    "print persona[\"Nombre\"], persona[\"direccion\"], persona[\"Rut\"], persona[\"Comuna\"]"
   ]
  },
  {
   "cell_type": "code",
   "execution_count": null,
   "metadata": {
    "collapsed": true
   },
   "outputs": [],
   "source": []
  }
 ],
 "metadata": {
  "kernelspec": {
   "display_name": "Python 2",
   "language": "python",
   "name": "python2"
  },
  "language_info": {
   "codemirror_mode": {
    "name": "ipython",
    "version": 2
   },
   "file_extension": ".py",
   "mimetype": "text/x-python",
   "name": "python",
   "nbconvert_exporter": "python",
   "pygments_lexer": "ipython2",
   "version": "2.7.11"
  },
  "widgets": {
   "state": {
    "52f41cd4d8cb46c8a676ecf00a5a663d": {
     "views": [
      {
       "cell_index": 4
      }
     ]
    }
   },
   "version": "1.2.0"
  }
 },
 "nbformat": 4,
 "nbformat_minor": 0
}
